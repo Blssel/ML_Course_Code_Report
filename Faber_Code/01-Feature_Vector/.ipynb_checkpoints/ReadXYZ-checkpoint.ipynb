{
 "cells": [
  {
   "cell_type": "markdown",
   "metadata": {},
   "source": [
    "# Parse xyz file"
   ]
  },
  {
   "cell_type": "markdown",
   "metadata": {},
   "source": [
    "## Initialize environment"
   ]
  },
  {
   "cell_type": "code",
   "execution_count": 1,
   "metadata": {
    "collapsed": true
   },
   "outputs": [],
   "source": [
    "import numpy as np"
   ]
  },
  {
   "cell_type": "markdown",
   "metadata": {},
   "source": [
    "## Read and store the molecule information"
   ]
  },
  {
   "cell_type": "code",
   "execution_count": 2,
   "metadata": {
    "collapsed": true
   },
   "outputs": [],
   "source": [
    "file_106080 = open(\"dsgdb9nsd_106080.xyz\",'r').read().split('\\n')\n",
    "data_106080 = [ i.split() for i in file_106080 ]"
   ]
  },
  {
   "cell_type": "markdown",
   "metadata": {},
   "source": [
    "Here is all the data in the molecule where index is 106080:"
   ]
  },
  {
   "cell_type": "code",
   "execution_count": 3,
   "metadata": {},
   "outputs": [
    {
     "data": {
      "text/plain": [
       "[['19'],\n",
       " ['gdb',\n",
       "  '106080',\n",
       "  '2.62335',\n",
       "  '1.58418',\n",
       "  '1.36308',\n",
       "  '1.6257',\n",
       "  '82.15',\n",
       "  '-0.2132',\n",
       "  '-0.0367',\n",
       "  '0.1765',\n",
       "  '1034.7611',\n",
       "  '0.159626',\n",
       "  '-385.782619',\n",
       "  '-385.774784',\n",
       "  '-385.77384',\n",
       "  '-385.814995',\n",
       "  '30.93'],\n",
       " ['O', '0.3767764618', '1.2859110586', '-0.4697578875', '-0.41404'],\n",
       " ['C', '0.1549985521', '-0.0830289164', '-0.1495922755', '-0.203274'],\n",
       " ['C', '-1.3001970311', '-0.4129308688', '-0.0418817809', '0.305177'],\n",
       " ['C', '-2.0488745331', '-1.7141397759', '0.0352968618', '-0.136793'],\n",
       " ['C', '-2.4940655422', '-1.4389304636', '1.5203476238', '-0.264865'],\n",
       " ['C', '-2.2734333004', '0.0176797313', '1.0818951199', '-0.019136'],\n",
       " ['C', '-3.3467300513', '0.660777344', '0.5781146096', '-0.098105'],\n",
       " ['C', '-3.3671101442', '0.5109088159', '-0.940875516', '-0.264323'],\n",
       " ['C', '-2.3358269261', '-0.6236883079', '-1.0836225241', '-0.088446'],\n",
       " ['H', '-0.0580943522', '1.8094228593', '0.2119971258', '0.284797'],\n",
       " ['H', '0.6113845427', '-0.6601113335', '-0.9612080656', '0.108071'],\n",
       " ['H', '0.677798133', '-0.3583808982', '0.780953577', '0.087644'],\n",
       " ['H', '-1.6776578943', '-2.680186187', '-0.3019399193', '0.091707'],\n",
       " ['H', '-3.5031750673', '-1.7071352937', '1.8458679218', '0.101452'],\n",
       " ['H', '-1.751839294', '-1.8738508038', '2.1995199983', '0.10639'],\n",
       " ['H', '-4.2824704498', '0.7372545877', '1.1261774633', '0.097219'],\n",
       " ['H', '-4.3874572037', '0.2464011502', '-1.2446099549', '0.109485'],\n",
       " ['H', '-3.066520616', '1.3761584331', '-1.5481598572', '0.116609'],\n",
       " ['H', '-2.0422832941', '-0.9666575614', '-2.0749869102', '0.080431'],\n",
       " ['83.171',\n",
       "  '108.9489',\n",
       "  '237.2786',\n",
       "  '270.3812',\n",
       "  '337.9948',\n",
       "  '372.6518',\n",
       "  '414.385',\n",
       "  '484.5071',\n",
       "  '580.1033',\n",
       "  '630.0882',\n",
       "  '685.4821',\n",
       "  '753.4085',\n",
       "  '793.7413',\n",
       "  '835.3808',\n",
       "  '868.4047',\n",
       "  '903.4753',\n",
       "  '908.3409',\n",
       "  '953.2613',\n",
       "  '968.6365',\n",
       "  '985.6417',\n",
       "  '1013.6117',\n",
       "  '1023.9965',\n",
       "  '1046.4778',\n",
       "  '1056.5574',\n",
       "  '1068.7569',\n",
       "  '1096.1803',\n",
       "  '1136.1829',\n",
       "  '1171.9345',\n",
       "  '1173.984',\n",
       "  '1237.9238',\n",
       "  '1256.6773',\n",
       "  '1272.1556',\n",
       "  '1297.6383',\n",
       "  '1308.6004',\n",
       "  '1375.0432',\n",
       "  '1411.5328',\n",
       "  '1454.224',\n",
       "  '1471.0125',\n",
       "  '1499.0012',\n",
       "  '1502.3192',\n",
       "  '1591.1179',\n",
       "  '2968.2745',\n",
       "  '3005.6341',\n",
       "  '3028.2941',\n",
       "  '3050.4146',\n",
       "  '3066.6994',\n",
       "  '3092.1049',\n",
       "  '3121.5346',\n",
       "  '3131.5479',\n",
       "  '3156.096',\n",
       "  '3806.9996'],\n",
       " ['OCC12C3CC1=CCC23', 'OC[C@@]12[C@H]3C[C]1[CH]C[C@@H]23'],\n",
       " ['InChI=1S/C8H10O/c9-4-8-5-1-2-6(8)7(8)3-5/h1,6-7,9H,2-4H2',\n",
       "  'InChI=1S/C8H10O/c9-4-8-5-1-2-6(8)7(8)3-5/h1,6-7,9H,2-4H2/t6-,7+,8-/m1/s1'],\n",
       " []]"
      ]
     },
     "execution_count": 3,
     "metadata": {},
     "output_type": "execute_result"
    }
   ],
   "source": [
    "data_106080"
   ]
  },
  {
   "cell_type": "markdown",
   "metadata": {},
   "source": [
    "Then we need to convert floats and integers. We first define a function converting string to integer and float64."
   ]
  },
  {
   "cell_type": "code",
   "execution_count": 4,
   "metadata": {
    "collapsed": true
   },
   "outputs": [],
   "source": [
    "def str2intflt(s):\n",
    "    try:\n",
    "        return int(s)\n",
    "    except ValueError:\n",
    "        try:\n",
    "            return float(s)\n",
    "        except ValueError:\n",
    "            return s"
   ]
  },
  {
   "cell_type": "markdown",
   "metadata": {},
   "source": [
    "Then we convert the values in `data_106080` to integers and floats"
   ]
  },
  {
   "cell_type": "code",
   "execution_count": 5,
   "metadata": {
    "collapsed": true
   },
   "outputs": [],
   "source": [
    "for Indi, i in enumerate(data_106080):\n",
    "    for Indj, j in enumerate(i):\n",
    "        data_106080[Indi][Indj] = str2intflt(j)"
   ]
  },
  {
   "cell_type": "markdown",
   "metadata": {},
   "source": [
    "# Feature Extraction"
   ]
  },
  {
   "cell_type": "markdown",
   "metadata": {},
   "source": [
    "## CM"
   ]
  },
  {
   "cell_type": "markdown",
   "metadata": {},
   "source": [
    "CM (Coulumb Matrix) method is the easiest to be parsed.\n",
    "\n",
    "Though the original idea of CM was proposed by Rupp *et al.* ([PRL 2012](https://dx.doi.org/10.1103/PhysRevLett.108.058301)); however, for the realization in this article Faber *et al.* ([JCTC 2017](https://dx.doi.org/10.1021/acs.jctc.7b00577)), the definition of similarity space has been changed.\n",
    "\n",
    "Firstly, the feature vector is $30 \\times 30$ length. Every element refers to a specific atom (if there be filled an atom, or 0 otherwise).\n",
    "\n",
    "Secondly, the off-diagonal elements of the matrix is evaluated by the classic electrostatic force by neucleu:\n",
    "$$\n",
    "M_{AB} = \\frac{Z_A Z_B}{| R_A - R_B |}\n",
    "$$\n",
    "The diagonal elements are evaluated by the following fomular:\n",
    "$$\n",
    "M_{AA} = 0.5 Z_A^{2.4}\n",
    "$$\n",
    "\n",
    "Finally, the columns and rows (refer to the atoms in principle) are sorted by their $L_1$ norms in decreasing order."
   ]
  },
  {
   "cell_type": "markdown",
   "metadata": {},
   "source": [
    "We now try to parse xyz data to get the CM feature vector."
   ]
  },
  {
   "cell_type": "markdown",
   "metadata": {},
   "source": [
    "(1) Read the coordinate matrix, as well as convert atom name to its neucleu charge."
   ]
  },
  {
   "cell_type": "code",
   "execution_count": 6,
   "metadata": {
    "collapsed": true
   },
   "outputs": [],
   "source": [
    "Coord = np.array([ i[1:4] for i in data_106080[2:-4] ])"
   ]
  },
  {
   "cell_type": "code",
   "execution_count": 7,
   "metadata": {
    "collapsed": true
   },
   "outputs": [],
   "source": [
    "# Since replacement of atoms can be done manually (C, N, O, F, H),\n",
    "# so I just do replacement uncleverly.\n",
    "NeuZ = np.array( [ int(i[0]\n",
    "    .replace('C','6').replace('N','7').replace('O','8') \\\n",
    "    .replace('F','9').replace('H','1')) \\\n",
    "    for i in data_106080[2:-4] ] )"
   ]
  },
  {
   "cell_type": "markdown",
   "metadata": {},
   "source": [
    "(2) Build up the elements of CM."
   ]
  },
  {
   "cell_type": "code",
   "execution_count": 8,
   "metadata": {
    "collapsed": true
   },
   "outputs": [],
   "source": [
    "AtomNum = NeuZ.shape[0]\n",
    "CM = np.zeros((30, 30))\n",
    "for i in range(AtomNum):\n",
    "    CM[i][i] = 0.5 * np.power(NeuZ[i], 2.4)\n",
    "    for j in range(i+1, AtomNum):\n",
    "        temp_float = NeuZ[i] * NeuZ[j] / np.linalg.norm(Coord[i] - Coord[j])\n",
    "        CM[i][j] = temp_float\n",
    "        CM[j][i] = temp_float"
   ]
  },
  {
   "cell_type": "markdown",
   "metadata": {},
   "source": [
    "(3) Sort columns and rows by the $L_2$ norm of CM vectors.\n",
    "\n",
    "> Note that in [Faber *et al.* (2017)](https://dx.doi.org/10.1021/acs.jctc.7b00577), they say that the matrix is sorted by $L_1$ norm. This is probably wrong at least in this molecule."
   ]
  },
  {
   "cell_type": "code",
   "execution_count": 9,
   "metadata": {
    "collapsed": true
   },
   "outputs": [],
   "source": [
    "#CM_Norm = np.array([ abs(i).sum() for i in CM ])\n",
    "CM_Norm = np.array([ np.linalg.norm(i) for i in CM ])"
   ]
  },
  {
   "cell_type": "code",
   "execution_count": 10,
   "metadata": {
    "collapsed": true
   },
   "outputs": [],
   "source": [
    "# Following code is learned form\n",
    "# https://stackoverflow.com/questions/25539593/sort-a-list-then-give-the-indexes-of-the-elements-in-their-original-order\n",
    "CM_Sort = [ b[0] for b in sorted(enumerate(CM_Norm), key=lambda i:-i[1]) ]"
   ]
  },
  {
   "cell_type": "code",
   "execution_count": 11,
   "metadata": {
    "collapsed": true
   },
   "outputs": [],
   "source": [
    "CM = CM[CM_Sort]\n",
    "CM = np.transpose(CM)[CM_Sort]"
   ]
  },
  {
   "cell_type": "markdown",
   "metadata": {},
   "source": [
    "(4) Finally, we concate CM to a one-dimension array."
   ]
  },
  {
   "cell_type": "code",
   "execution_count": 12,
   "metadata": {
    "collapsed": true
   },
   "outputs": [],
   "source": [
    "CM = np.concatenate(CM)"
   ]
  },
  {
   "cell_type": "markdown",
   "metadata": {},
   "source": [
    "(5) Compare the CM matrix we created to that from Faber *et al.* (2017)"
   ]
  },
  {
   "cell_type": "code",
   "execution_count": 13,
   "metadata": {
    "collapsed": true
   },
   "outputs": [],
   "source": [
    "CM_Confirm = np.array([ float(i) for i in \\\n",
    "    open(\"./qm9_106080/CM_106080.txt\",'r').read().split()[1:] ])"
   ]
  },
  {
   "cell_type": "code",
   "execution_count": 14,
   "metadata": {},
   "outputs": [
    {
     "data": {
      "text/plain": [
       "2.0316240359242251e-10"
      ]
     },
     "execution_count": 14,
     "metadata": {},
     "output_type": "execute_result"
    }
   ],
   "source": [
    "np.linalg.norm(CM - CM_Confirm)"
   ]
  },
  {
   "cell_type": "markdown",
   "metadata": {},
   "source": [
    "This deviation is so small that we can ignore that."
   ]
  },
  {
   "cell_type": "markdown",
   "metadata": {},
   "source": [
    "## BoB"
   ]
  },
  {
   "cell_type": "markdown",
   "metadata": {},
   "source": [
    "### Location of bags"
   ]
  },
  {
   "cell_type": "markdown",
   "metadata": {},
   "source": [
    "We first need to know the intial location of bags. These locations can be obtained by observation on some special molecules."
   ]
  },
  {
   "cell_type": "markdown",
   "metadata": {},
   "source": [
    "|Molecules | QM9 Index | Atoms & Bonds | Location\n",
    "|:--------:|:---------:|:-------------:|---------:\n",
    "|    CH4 | 000001 | C   | 0\n",
    "|        |        | H   | 9\n",
    "|        |        | C-H | 319\n",
    "|        |        | H-H | 83\n",
    "|    NH3 | 000002 | N   | 29\n",
    "|        |        | N-H | 661\n",
    "|    H2O | 000003 | O   | 36\n",
    "|        |        | O-H | 801\n",
    "|   C2H2 | 000004 | C-C | 47\n",
    "|    HCN | 000005 | C-N | 499\n",
    "|   CH2O | 000006 | C-O | 562\n",
    "| NH2CHO | 000012 | O-N | 1021\n",
    "|CO(NH2)2| 000020 | N-N | 273\n",
    "| CHOCHO | 000028 | O-O | 294\n",
    "|    CF4 | 000184 |   F | 41\n",
    "|        |        | C-F | 607\n",
    "|        |        | F-F | 304\n",
    "| CF3CCH | 000826 | H-F | 901\n",
    "|  CF3CN | 000827 | N-F | 1056\n",
    "| CF3CHO | 000828 | O-F | 1098"
   ]
  },
  {
   "cell_type": "markdown",
   "metadata": {},
   "source": [
    "The following code is utilized to find these locations."
   ]
  },
  {
   "cell_type": "code",
   "execution_count": 15,
   "metadata": {},
   "outputs": [
    {
     "name": "stdout",
     "output_type": "stream",
     "text": [
      "Length of this input array: 2209 \n",
      "The following array is the non-zero value index in array:\n",
      "[0, 1, 9, 36, 41, 42, 43, 47, 304, 305, 306, 319, 320, 562, 563, 607, 608, 609, 610, 611, 612, 801, 901, 902, 903, 1098, 1099, 1100]\n",
      "Length of non-zero elements: 28\n"
     ]
    }
   ],
   "source": [
    "Temp_Str = open(\"./BOB_example/BOB_000828\",'r').read().split('\\n')[0].split()[1:]\n",
    "print(\"Length of this input array: %s \" % len(Temp_Str))\n",
    "print(\"The following array is the non-zero value index in array:\")\n",
    "Temp_List = [ Indi for Indi, i in enumerate(Temp_Str) if i != \"0.0\" ]\n",
    "print(Temp_List)\n",
    "\n",
    "print(\"Length of non-zero elements: %s\" % len(Temp_List))"
   ]
  },
  {
   "cell_type": "markdown",
   "metadata": {},
   "source": [
    "Or we can write the location as following:"
   ]
  },
  {
   "cell_type": "markdown",
   "metadata": {},
   "source": [
    " Atoms & Bonds | Location\n",
    ":-------------:|---------:\n",
    "C   | 0\n",
    "H   | 9\n",
    "N   | 29\n",
    "O   | 36\n",
    "F   | 41\n",
    "C-C | 47\n",
    "H-H | 83\n",
    "N-N | 273\n",
    "O-O | 294\n",
    "F-F | 304\n",
    "C-H | 319\n",
    "C-N | 499\n",
    "C-O | 562\n",
    "C-F | 607\n",
    "N-H | 661\n",
    "O-H | 801\n",
    "F-H | 901\n",
    "N-O | 1021\n",
    "N-F | 1056\n",
    "O-F | 1098"
   ]
  },
  {
   "cell_type": "markdown",
   "metadata": {},
   "source": [
    "It is probably that the 2209 length array is too long for BoB feature vectors. The largest index of non-zero values in these arrays may probably not exceded to 1200.\n",
    "\n",
    "It's also notable that though BoB vectors are times larger than CM vectors, however, the non-zero value in BoB vectors are $ N \\times (N+1) / 2 $, while CM vectors are $ N^2 $; so the compressed zip file of BoB is smaller than CM."
   ]
  },
  {
   "cell_type": "markdown",
   "metadata": {},
   "source": [
    "### BoB feature vector"
   ]
  },
  {
   "cell_type": "markdown",
   "metadata": {},
   "source": [
    "Actually, elements of BoB feature vectors are equalivent to that of CM feature vectors. The only difference is all the elements are packed in \"bags\" by the kind of bonds or atoms. Inside of these bags, the values are sorted descendingly."
   ]
  },
  {
   "cell_type": "markdown",
   "metadata": {},
   "source": [
    "(1) Like CM, read the coordinate matrix, as well as convert atom name to its neucleu charge."
   ]
  },
  {
   "cell_type": "code",
   "execution_count": 16,
   "metadata": {
    "collapsed": true
   },
   "outputs": [],
   "source": [
    "Coord = np.array([ i[1:4] for i in data_106080[2:-4] ])"
   ]
  },
  {
   "cell_type": "code",
   "execution_count": 17,
   "metadata": {
    "collapsed": true
   },
   "outputs": [],
   "source": [
    "# Since replacement of atoms can be done manually (C, N, O, F, H),\n",
    "# so I just do replacement uncleverly.\n",
    "NeuZ = np.array( [ int(i[0]\n",
    "    .replace('C','6').replace('N','7').replace('O','8') \\\n",
    "    .replace('F','9').replace('H','1')) \\\n",
    "    for i in data_106080[2:-4] ] )"
   ]
  },
  {
   "cell_type": "markdown",
   "metadata": {},
   "source": [
    "(2) Create lists of bags."
   ]
  },
  {
   "cell_type": "code",
   "execution_count": 18,
   "metadata": {
    "collapsed": true
   },
   "outputs": [],
   "source": [
    "# - NeuAll: All the neucleu charges in a list\n",
    "NeuAll = [6, 1, 7, 8, 9]\n",
    "# - NeuInd: Index of the one or two atom pairs\n",
    "#           Up to now, the index can be defined by (i+10)*(j+10).\n",
    "#           However, more atoms or more triples, quards may invalid.\n",
    "NeuInd = [16, 11, 17, 18, 19, 256, 121, 289, 324, 361,\\\n",
    "    176, 272, 288, 304, 187, 198, 209, 306, 323, 342]"
   ]
  },
  {
   "cell_type": "markdown",
   "metadata": {},
   "source": [
    "There are totally 20 kind of bonds (atoms). We need to create a 20\\*None empty arrows."
   ]
  },
  {
   "cell_type": "code",
   "execution_count": 19,
   "metadata": {
    "collapsed": true
   },
   "outputs": [],
   "source": [
    "Temp_BoB = [ [] for i in range(20) ]"
   ]
  },
  {
   "cell_type": "markdown",
   "metadata": {},
   "source": [
    "Initial locations are defined by the following list."
   ]
  },
  {
   "cell_type": "code",
   "execution_count": 20,
   "metadata": {
    "collapsed": true
   },
   "outputs": [],
   "source": [
    "NeuLoc = [0, 9, 29, 36, 41, 47, 83, 273, 294, 304, 319, 499, 562, 607, 661, 801, 901, 1021, 1056, 1098]"
   ]
  },
  {
   "cell_type": "markdown",
   "metadata": {},
   "source": [
    "(3) Fill in values to `Temp_BoB`.\n",
    "\n",
    "Note that the distance is defined by atomic unit (a.u.). So the unit of length of bonds in QM9 file (angstrom, $ 10^{-10} $ m) should be converted to a.u.. Since 1 a.u. of length is Bohr radius ($ \\simeq 0.529177 \\times 10^{-10} $ m), so we just simply divide the length of bond by 0.52917724888.\n",
    "\n",
    "So the values of BoB feature vectors are not equal to that of CM. All the atoms are the same, but all the bonds are multipled by 0.52917724888."
   ]
  },
  {
   "cell_type": "code",
   "execution_count": 21,
   "metadata": {
    "collapsed": true
   },
   "outputs": [],
   "source": [
    "for (Indi, i) in enumerate(Coord):\n",
    "    Val_CM = 0.5*np.power(NeuZ[Indi], 2.4)\n",
    "    Temp_BoB[NeuInd.index(NeuZ[Indi]+10)].append(Val_CM)\n",
    "    for (Indj_subi, j) in enumerate(Coord[Indi+1:]):\n",
    "        Indj = Indj_subi + Indi + 1\n",
    "        Val_CM = NeuZ[Indi] * NeuZ[Indj] / (np.linalg.norm(i - j) / 0.52917724888)\n",
    "        Temp_BoB[NeuInd.index((NeuZ[Indi]+10)*(NeuZ[Indj]+10))].append(Val_CM)"
   ]
  },
  {
   "cell_type": "markdown",
   "metadata": {},
   "source": [
    "Then we need to reindex the lists in `Temp_BoB`."
   ]
  },
  {
   "cell_type": "code",
   "execution_count": 22,
   "metadata": {
    "collapsed": true
   },
   "outputs": [],
   "source": [
    "for (Indi, i) in enumerate(Temp_BoB):\n",
    "    i.sort(reverse=True)"
   ]
  },
  {
   "cell_type": "markdown",
   "metadata": {},
   "source": [
    "(4) Fill in values to the actual BoB feature vector."
   ]
  },
  {
   "cell_type": "code",
   "execution_count": 23,
   "metadata": {
    "collapsed": true
   },
   "outputs": [],
   "source": [
    "BoB = np.zeros(2209)\n",
    "for (Indi, i) in enumerate(Temp_BoB):\n",
    "    BoB[NeuLoc[Indi]:NeuLoc[Indi]+len(i)] = i"
   ]
  },
  {
   "cell_type": "markdown",
   "metadata": {},
   "source": [
    "(5) Compare the BoB vector we created to that from Faber et al. (2017)"
   ]
  },
  {
   "cell_type": "code",
   "execution_count": 24,
   "metadata": {
    "collapsed": true
   },
   "outputs": [],
   "source": [
    "BoB_Confirm = np.array([ float(i) for i in \\\n",
    "    open(\"./qm9_106080/BOB_106080.txt\",'r').read().split()[1:] ])"
   ]
  },
  {
   "cell_type": "code",
   "execution_count": 25,
   "metadata": {},
   "outputs": [
    {
     "data": {
      "text/plain": [
       "2.5693369947722708e-10"
      ]
     },
     "execution_count": 25,
     "metadata": {},
     "output_type": "execute_result"
    }
   ],
   "source": [
    "np.linalg.norm(BoB - BoB_Confirm)"
   ]
  }
 ],
 "metadata": {
  "kernelspec": {
   "display_name": "Python 3",
   "language": "python",
   "name": "python3"
  },
  "language_info": {
   "codemirror_mode": {
    "name": "ipython",
    "version": 3
   },
   "file_extension": ".py",
   "mimetype": "text/x-python",
   "name": "python",
   "nbconvert_exporter": "python",
   "pygments_lexer": "ipython3",
   "version": "3.6.3"
  }
 },
 "nbformat": 4,
 "nbformat_minor": 2
}
