{
 "cells": [
  {
   "cell_type": "markdown",
   "metadata": {},
   "source": [
    "# Note of `get_data.py`"
   ]
  },
  {
   "cell_type": "markdown",
   "metadata": {},
   "source": [
    "## File Preparation"
   ]
  },
  {
   "cell_type": "markdown",
   "metadata": {},
   "source": [
    "The first step is to download QM9 database. Since in China, the downloading speed is quite slow; so I have downloaded the database file locally. The code has been modified by myself.\n",
    "\n",
    "(In China, VPN is recommended to download database file.)"
   ]
  },
  {
   "cell_type": "markdown",
   "metadata": {},
   "source": [
    "> Following code starting from Line 1 in `get_data.py`."
   ]
  },
  {
   "cell_type": "code",
   "execution_count": 1,
   "metadata": {},
   "outputs": [
    {
     "name": "stdout",
     "output_type": "stream",
     "text": [
      "extracting data to data/qm9_raw ...\n",
      "finished extracting\n"
     ]
    }
   ],
   "source": [
    "#! /usr/local/share/ajzapps/anaconda3/bin/python\n",
    "\n",
    "import os\n",
    "from rdkit import Chem\n",
    "import glob\n",
    "import json\n",
    "import numpy as np\n",
    "\n",
    "if not os.path.exists('data'):\n",
    "    os.mkdir('data')\n",
    "    print('made directory ./data/')\n",
    "\n",
    "download_path = os.path.join('data', 'dsgdb9nsd.xyz.tar.bz2')\n",
    "#if not os.path.exists(download_path):\n",
    "#    print('downloading data to %s ...' % download_path)\n",
    "#    source = 'https://ndownloader.figshare.com/files/3195389'\n",
    "#    os.system('wget -O %s %s' % (download_path, source))\n",
    "#    print('finished downloading')\n",
    "\n",
    "unzip_path = os.path.join('data', 'qm9_raw')\n",
    "if not os.path.exists(unzip_path):\n",
    "    print('extracting data to %s ...' % unzip_path)\n",
    "    os.mkdir(unzip_path)\n",
    "    os.system('tar xvjf %s -C %s' % (download_path, unzip_path))\n",
    "    print('finished extracting')"
   ]
  },
  {
   "cell_type": "markdown",
   "metadata": {},
   "source": [
    "In the cell above,\n",
    "* Line 4: The [RDKit package](http://www.rdkit.org/) is a package for cheminformation.\n",
    "* Line 9-11: Make a directory `data` here.\n",
    "* Line 13: Specify zipped database file.\n",
    "  * Before the program actually runs, I have created a directory named `data` in the current path. I have also copied file [`dsgdb9nsd.xyz.tar.bz2`](https://ndownloader.figshare.com/files/3195389) (~ 82 MB) into this directory. However, I havn't created `data/qm9_raw` yet.\n",
    "* Line 20-25: Unzip all files to directory `data/qm9_raw`.\n",
    "  * This process takes a few minutes (probably no longer than 3 minutes).\n",
    "  * After unzipping, file names in `data/qm9_raw` is `dsgdb9nsd_??????.xyz`, where `??????` should be `000001` - `133885`."
   ]
  },
  {
   "cell_type": "markdown",
   "metadata": {},
   "source": [
    "## Data Reading"
   ]
  },
  {
   "cell_type": "markdown",
   "metadata": {},
   "source": [
    "Since the function `preprocess()` is the actual main program, we don't need to treat this function as a whole. We can just split this function into the following functionalities."
   ]
  },
  {
   "cell_type": "markdown",
   "metadata": {},
   "source": [
    "### Training / validation split"
   ]
  },
  {
   "cell_type": "markdown",
   "metadata": {},
   "source": [
    "The training and validation set are predefined. The validation set index has been stored in .json file `valid_idx.json`. The total number of validation set is 13082.\n",
    "* However, I believe that in their implementation, no testing set is defined. More over, there are some molecules failed in some properties (like failure in SMILES string testing) are excluded by Faber et al. (JCTC 2017), but probably not excluded by this implementation."
   ]
  },
  {
   "cell_type": "markdown",
   "metadata": {},
   "source": [
    "> Following code starting from Line 38 in `get_data.py`."
   ]
  },
  {
   "cell_type": "code",
   "execution_count": 2,
   "metadata": {},
   "outputs": [
    {
     "name": "stdout",
     "output_type": "stream",
     "text": [
      "loading train/validation split\n"
     ]
    }
   ],
   "source": [
    "print('loading train/validation split')\n",
    "with open('valid_idx.json', 'r') as f:\n",
    "    valid_idx = json.load(f)['valid_idxs']\n",
    "valid_files = [os.path.join(unzip_path, 'dsgdb9nsd_%s.xyz' % i) for i in valid_idx]"
   ]
  },
  {
   "cell_type": "markdown",
   "metadata": {},
   "source": [
    "### Parse .xyz file"
   ]
  },
  {
   "cell_type": "markdown",
   "metadata": {},
   "source": [
    "This part of code is to extract information (SMILES string, property dipole moment (Debye) only)."
   ]
  },
  {
   "cell_type": "markdown",
   "metadata": {},
   "source": [
    "> Following code starting from Line 28 in `get_data.py`."
   ]
  },
  {
   "cell_type": "code",
   "execution_count": 5,
   "metadata": {},
   "outputs": [],
   "source": [
    "index_of_mu = 4\n",
    "\n",
    "def read_xyz(file_path):\n",
    "    with open(file_path, 'r') as f:\n",
    "        lines = f.readlines()\n",
    "        smiles = lines[-2].split('\\t')[0]\n",
    "        properties = lines[1].split('\\t')\n",
    "        mu = float(properties[index_of_mu])\n",
    "    return {'smiles': smiles, 'mu': mu}"
   ]
  },
  {
   "cell_type": "markdown",
   "metadata": {},
   "source": [
    "The example of the code above:"
   ]
  },
  {
   "cell_type": "code",
   "execution_count": 7,
   "metadata": {},
   "outputs": [
    {
     "data": {
      "text/plain": [
       "{'mu': 0.1174, 'smiles': 'CCCC1CC1'}"
      ]
     },
     "execution_count": 7,
     "metadata": {},
     "output_type": "execute_result"
    }
   ],
   "source": [
    "read_xyz(\"data/qm9_raw/dsgdb9nsd_000588.xyz\")"
   ]
  },
  {
   "cell_type": "markdown",
   "metadata": {},
   "source": [
    "### Data reading and stroage"
   ]
  },
  {
   "cell_type": "markdown",
   "metadata": {},
   "source": [
    "The following code is to read data and store data. It may take several minutes to execute."
   ]
  },
  {
   "cell_type": "markdown",
   "metadata": {},
   "source": [
    "> Following code starting from Line 43 in `get_data.py`."
   ]
  },
  {
   "cell_type": "code",
   "execution_count": 10,
   "metadata": {},
   "outputs": [
    {
     "name": "stdout",
     "output_type": "stream",
     "text": [
      "reading data...\n",
      "99.9 %    \r"
     ]
    }
   ],
   "source": [
    "print('reading data...')\n",
    "raw_data = {'train': [], 'valid': []}\n",
    "all_files = glob.glob(os.path.join(unzip_path, '*.xyz'))\n",
    "for file_idx, file_path in enumerate(all_files):\n",
    "    if file_idx % 100 == 0:\n",
    "        print('%.1f %%    \\r' % (file_idx / float(len(all_files)) * 100), end=\"\"),\n",
    "    if file_path not in valid_files:\n",
    "        raw_data['train'].append(read_xyz(file_path))\n",
    "    else:\n",
    "        raw_data['valid'].append(read_xyz(file_path))\n",
    "all_mu = [mol['mu'] for mol in raw_data['train']]\n",
    "mean_mu = np.mean(all_mu)\n",
    "std_mu = np.std(all_mu)"
   ]
  },
  {
   "cell_type": "markdown",
   "metadata": {},
   "source": [
    "In the cell above,\n",
    "* Line 3: `glob.glob` list all the possible file path `./data/qm9_raw/*.xyz` in the list `all_files`.\n",
    "* Line 5-6: Print the current process percentage. `\\r` here is essential; that means the cursor is rewinded to the initial of the line. Then the string can be covered when a new output is dumped.\n",
    "* Line 7-10: Save smiles string and dipole property to the data list `raw_data`. The split is very crude here, since only training and validation set are splited, where no excluded and testing set being splited.\n",
    "* Line 11-13: Calculating the mean and standard deviation of dipoles. Calculation only covers training set.\n",
    "  * It should be noted that Faber et al. (JCTC 2017) just calculate mean and standard deviation by all the valid (trainning / validation / testing set) molecules. So in Faber et al. (JCTC 2017), they just simply assume that the mean and standard deviation of dipoles for testing, validation and testing set are the same. However, in this implementation, no assumption on mean, standard deviation is aquired."
   ]
  },
  {
   "cell_type": "markdown",
   "metadata": {},
   "source": [
    "### Small utilities "
   ]
  },
  {
   "cell_type": "markdown",
   "metadata": {},
   "source": [
    "This small utility inputs dipole value (Debye), and outputs the normalized dipole (Gaussian distribution assumed)."
   ]
  },
  {
   "cell_type": "markdown",
   "metadata": {},
   "source": [
    "> Following code starting from Line 57 in `get_data.py`."
   ]
  },
  {
   "cell_type": "code",
   "execution_count": 20,
   "metadata": {},
   "outputs": [],
   "source": [
    "def normalize_mu(mu):\n",
    "    return (mu - mean_mu) / std_mu"
   ]
  },
  {
   "cell_type": "markdown",
   "metadata": {},
   "source": [
    "This small utility generates onehot coding. Though in this implementation, the `onehot` function is utilized to represent atom information; however, this is not the only ability of this function."
   ]
  },
  {
   "cell_type": "markdown",
   "metadata": {},
   "source": [
    "> Following code starting from Line 60 in `get_data.py`."
   ]
  },
  {
   "cell_type": "code",
   "execution_count": 21,
   "metadata": {},
   "outputs": [],
   "source": [
    "def onehot(idx, len):\n",
    "    z = [0 for _ in range(len)]\n",
    "    z[idx] = 1\n",
    "    return z"
   ]
  },
  {
   "cell_type": "markdown",
   "metadata": {},
   "source": [
    "## SMILES String"
   ]
  },
  {
   "cell_type": "markdown",
   "metadata": {},
   "source": [
    "The following code is to generate simple node and edge information."
   ]
  },
  {
   "cell_type": "markdown",
   "metadata": {},
   "source": [
    "> Following code starting from Line 65 in `get_data.py`."
   ]
  },
  {
   "cell_type": "code",
   "execution_count": 23,
   "metadata": {},
   "outputs": [],
   "source": [
    "bond_dict = {'SINGLE': 1, 'DOUBLE': 2, 'TRIPLE': 3, \"AROMATIC\": 4}\n",
    "def to_graph(smiles):\n",
    "    mol = Chem.MolFromSmiles(smiles)\n",
    "    mol = Chem.AddHs(mol)\n",
    "    edges = []\n",
    "    nodes = []\n",
    "    for bond in mol.GetBonds():\n",
    "        edges.append((bond.GetBeginAtomIdx(), bond_dict[str(bond.GetBondType())], bond.GetEndAtomIdx()))\n",
    "    for atom in mol.GetAtoms():\n",
    "        nodes.append(onehot([\"H\", \"C\", \"N\", \"O\", \"F\"].index(atom.GetSymbol()), 5))\n",
    "    return nodes, edges"
   ]
  },
  {
   "cell_type": "markdown",
   "metadata": {},
   "source": [
    "We will use an example to illustrate how this works. The molecule is CHONH2. "
   ]
  },
  {
   "cell_type": "markdown",
   "metadata": {},
   "source": [
    "### SMILES string explanation\n",
    "\n",
    "The bond connection relationship can be expressed as following (one without numbering, one with numbering):\n",
    "```\n",
    "        H                  H5\n",
    "        |                  |\n",
    "H - N - C = O    H3 - N0 - C1 = O2\n",
    "    |                 |\n",
    "    H                 H4\n",
    "```\n",
    "The SMILES string for this molecule is `NC=O`. This string is simple enough to be explained. We can believe that since `N` and `C` simply concatenate together, then bond order between `N0` and `C1` is one. Since `C` and `O` is joined by `=`, the bond order between `C1` and `O2` is two. The index of atoms are implied by the sting itself.\n",
    "\n",
    "However, there are quite a few SMILES strings challenging to be explained by hand. The package [RDKit package](http://www.rdkit.org/) can do these jobs."
   ]
  },
  {
   "cell_type": "markdown",
   "metadata": {},
   "source": [
    "### Output node and edge information\n",
    "\n",
    "We will take a quick look to the node and edge information. These information are going to be dumped to .json files later, as the feature vectors of the MPNN learning program."
   ]
  },
  {
   "cell_type": "code",
   "execution_count": 30,
   "metadata": {},
   "outputs": [
    {
     "data": {
      "text/plain": [
       "([[0, 0, 1, 0, 0],\n",
       "  [0, 1, 0, 0, 0],\n",
       "  [0, 0, 0, 1, 0],\n",
       "  [1, 0, 0, 0, 0],\n",
       "  [1, 0, 0, 0, 0],\n",
       "  [1, 0, 0, 0, 0]],\n",
       " [(0, 1, 1), (1, 2, 2), (0, 1, 3), (0, 1, 4), (1, 1, 5)])"
      ]
     },
     "execution_count": 30,
     "metadata": {},
     "output_type": "execute_result"
    }
   ],
   "source": [
    "to_graph(\"NC=O\")"
   ]
  },
  {
   "cell_type": "markdown",
   "metadata": {},
   "source": [
    "The first element (node) of the tuple refers to the onehot codes of chemical element in the molecule.\n",
    "\n",
    "For example, the onehot code of atom O(2) refers to:"
   ]
  },
  {
   "cell_type": "code",
   "execution_count": 33,
   "metadata": {},
   "outputs": [
    {
     "data": {
      "text/plain": [
       "[0, 0, 0, 1, 0]"
      ]
     },
     "execution_count": 33,
     "metadata": {},
     "output_type": "execute_result"
    }
   ],
   "source": [
    "onehot([\"H\", \"C\", \"N\", \"O\", \"F\"].index(\"O\"), 5)"
   ]
  },
  {
   "cell_type": "markdown",
   "metadata": {},
   "source": [
    "The second element (edge) of the tuple refers to the connection atoms of the bond, as well as the bond order.\n",
    "\n",
    "In this molecule, all the bond information can be listed in the following table:\n",
    "\n",
    " Idx | Begin Atom | Bond Order | End Atom | Edge Feature\n",
    "-----|------------|------------|----------|---------\n",
    "0 | N(0) | 1 | C(1) | `(0, 1, 1)`\n",
    "1 | C(1) | 2 | O(2) | `(1, 2, 2)`\n",
    "2 | N(0) | 1 | H(3) | `(0, 1, 3)`\n",
    "3 | N(0) | 1 | H(4) | `(0, 1, 4)`\n",
    "4 | C(1) | 1 | H(5) | `(1, 1, 5)`"
   ]
  },
  {
   "cell_type": "markdown",
   "metadata": {},
   "source": [
    "## Data prase and dump"
   ]
  },
  {
   "cell_type": "markdown",
   "metadata": {},
   "source": [
    "The following code is to convert the SMILES string to feature vectors, as well as to parse the target values (normalized dipole values). These values are dumped to .json file `molecules_train.json` and `molecules_train.json`."
   ]
  },
  {
   "cell_type": "markdown",
   "metadata": {},
   "source": [
    "> Following code starting from Line 77 in `get_data.py`."
   ]
  },
  {
   "cell_type": "code",
   "execution_count": 38,
   "metadata": {},
   "outputs": [
    {
     "name": "stdout",
     "output_type": "stream",
     "text": [
      "parsing smiles as graphs...\n",
      "train: 100 %        \n",
      "valid: 100 %       \n"
     ]
    }
   ],
   "source": [
    "print('parsing smiles as graphs...')\n",
    "processed_data = {'train': [], 'valid': []}\n",
    "for section in ['train', 'valid']:\n",
    "    for i,(smiles, mu) in enumerate([(mol['smiles'], mol['mu']) for mol in raw_data[section]]):\n",
    "        if i % 100 == 0:\n",
    "            print('%s: %.1f %%      \\r' % (section, 100*i/float(len(raw_data[section]))), end=\"\")\n",
    "        nodes, edges = to_graph(smiles)\n",
    "        processed_data[section].append({\n",
    "            'targets': [[normalize_mu(mu)]],\n",
    "            'graph': edges,\n",
    "            'node_features': nodes\n",
    "        })\n",
    "    print('%s: 100 %%      ' % (section))\n",
    "    with open('molecules_%s.json' % section, 'w') as f:\n",
    "        json.dump(processed_data[section], f)"
   ]
  },
  {
   "cell_type": "markdown",
   "metadata": {},
   "source": [
    "The following example code aims to illustrate one molecule in the file."
   ]
  },
  {
   "cell_type": "code",
   "execution_count": 42,
   "metadata": {},
   "outputs": [
    {
     "name": "stdout",
     "output_type": "stream",
     "text": [
      "train: 0.0 %      \r",
      "{'targets': [[-0.41439441617167755]], 'graph': [(0, 1, 1), (1, 2, 2), (1, 1, 3), (3, 1, 4), (3, 2, 5), (5, 1, 6), (6, 1, 7), (7, 1, 8), (8, 1, 6), (0, 1, 9), (0, 1, 10), (0, 1, 11), (4, 1, 12), (4, 1, 13), (6, 1, 14), (7, 1, 15), (7, 1, 16), (8, 1, 17), (8, 1, 18)], 'node_features': [[0, 1, 0, 0, 0], [0, 1, 0, 0, 0], [0, 0, 0, 1, 0], [0, 1, 0, 0, 0], [0, 0, 1, 0, 0], [0, 0, 1, 0, 0], [0, 1, 0, 0, 0], [0, 1, 0, 0, 0], [0, 1, 0, 0, 0], [1, 0, 0, 0, 0], [1, 0, 0, 0, 0], [1, 0, 0, 0, 0], [1, 0, 0, 0, 0], [1, 0, 0, 0, 0], [1, 0, 0, 0, 0], [1, 0, 0, 0, 0], [1, 0, 0, 0, 0], [1, 0, 0, 0, 0], [1, 0, 0, 0, 0]]}\n"
     ]
    }
   ],
   "source": [
    "for section in ['train']:\n",
    "    for i,(smiles, mu) in enumerate([(mol['smiles'], mol['mu']) for mol in raw_data[section][0:1]]):\n",
    "        if i % 100 == 0:\n",
    "            print('%s: %.1f %%      \\r' % (section, 100*i/float(len(raw_data[section]))), end=\"\")\n",
    "        nodes, edges = to_graph(smiles)\n",
    "        temp_json = {\n",
    "            'targets': [[normalize_mu(mu)]],\n",
    "            'graph': edges,\n",
    "            'node_features': nodes\n",
    "        }\n",
    "print(temp_json)"
   ]
  }
 ],
 "metadata": {
  "kernelspec": {
   "display_name": "Python 3",
   "language": "python",
   "name": "python3"
  },
  "language_info": {
   "codemirror_mode": {
    "name": "ipython",
    "version": 3
   },
   "file_extension": ".py",
   "mimetype": "text/x-python",
   "name": "python",
   "nbconvert_exporter": "python",
   "pygments_lexer": "ipython3",
   "version": "3.6.4"
  }
 },
 "nbformat": 4,
 "nbformat_minor": 2
}
